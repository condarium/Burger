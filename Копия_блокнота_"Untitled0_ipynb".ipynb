{
  "nbformat": 4,
  "nbformat_minor": 0,
  "metadata": {
    "colab": {
      "name": "Копия блокнота \"Untitled0.ipynb\"",
      "provenance": [],
      "authorship_tag": "ABX9TyNap5P5mBS2UJ99C/gFKeft",
      "include_colab_link": true
    },
    "kernelspec": {
      "name": "python3",
      "display_name": "Python 3"
    },
    "language_info": {
      "name": "python"
    }
  },
  "cells": [
    {
      "cell_type": "markdown",
      "metadata": {
        "id": "view-in-github",
        "colab_type": "text"
      },
      "source": [
        "<a href=\"https://colab.research.google.com/github/condarium/Burger/blob/main/%D0%9A%D0%BE%D0%BF%D0%B8%D1%8F_%D0%B1%D0%BB%D0%BE%D0%BA%D0%BD%D0%BE%D1%82%D0%B0_%22Untitled0_ipynb%22.ipynb\" target=\"_parent\"><img src=\"https://colab.research.google.com/assets/colab-badge.svg\" alt=\"Open In Colab\"/></a>"
      ]
    },
    {
      "cell_type": "code",
      "execution_count": null,
      "metadata": {
        "colab": {
          "base_uri": "https://localhost:8080/"
        },
        "id": "z6qDVZBoyTXh",
        "outputId": "23074b5b-d1a7-4976-d717-a4afbfd4e899"
      },
      "outputs": [
        {
          "output_type": "stream",
          "name": "stdout",
          "text": [
            "Первый язык программированияPyton\n",
            "Второй язык программированияJava\n",
            "Третий язык программированияC++\n",
            "Pyton Java C++\n"
          ]
        }
      ],
      "source": [
        "language1=input(\"Первый язык программирования\")\n",
        "language2=input(\"Второй язык программирования\")\n",
        "language3=input(\"Третий язык программирования\")\n",
        "print(language1,language2,language3)"
      ]
    }
  ]
}